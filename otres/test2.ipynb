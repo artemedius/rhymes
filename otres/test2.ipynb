{
 "cells": [
  {
   "cell_type": "code",
   "execution_count": 3,
   "metadata": {},
   "outputs": [
    {
     "data": {
      "text/plain": [
       "100.0"
      ]
     },
     "execution_count": 3,
     "metadata": {},
     "output_type": "execute_result"
    }
   ],
   "source": [
    "import pandas as pd\n",
    "import openpyxl\n",
    "path = 'C:/Users/a.fedosov/OneDrive - Hyva Global/Desktop/dataset/proj/input/sample.xlsx'\n",
    "sample = pd.read_excel(path)\n",
    "records = pd.read_excel('db.xlsx')\n",
    "records.set_index('Упражнение', inplace=True)\n",
    "total = pd.concat([records, sample])\n",
    "\n",
    "def uniques(df):\n",
    "    return list(df['Упражнение'].unique())\n",
    "targets = uniques(sample)\n",
    "\n",
    "def get_record(x):\n",
    "    step2 = records.loc[x]['Вес']\n",
    "    return(step2)\n",
    "get_record('Становая тяга')"
   ]
  },
  {
   "cell_type": "code",
   "execution_count": 4,
   "metadata": {},
   "outputs": [
    {
     "name": "stdout",
     "output_type": "stream",
     "text": [
      "Становая тяга - не побил \n",
      "Румынская тяга - 80 от 70.0\n",
      "Присед со штангой - не побил \n",
      "Разгибания ног (тренажёр) - 52 от 45.0\n",
      "Hack присед - 55 от 50.0\n",
      "Сгибание ног (тренажёр) - 45 от 42.0\n"
     ]
    }
   ],
   "source": [
    "dict = {}\n",
    "for n in targets:\n",
    "    dict[n] = max(sample.loc[sample['Упражнение'] == n]['Вес'])\n",
    "    pb = get_record(n)\n",
    "    if pb < dict[n]:\n",
    "        print(f'{n} - {dict[n]} от {get_record(n)}')\n",
    "    else:\n",
    "        print(f'{n} - не побил ')"
   ]
  }
 ],
 "metadata": {
  "kernelspec": {
   "display_name": "Python 3.10.4 64-bit",
   "language": "python",
   "name": "python3"
  },
  "language_info": {
   "codemirror_mode": {
    "name": "ipython",
    "version": 3
   },
   "file_extension": ".py",
   "mimetype": "text/x-python",
   "name": "python",
   "nbconvert_exporter": "python",
   "pygments_lexer": "ipython3",
   "version": "3.10.4"
  },
  "orig_nbformat": 4,
  "vscode": {
   "interpreter": {
    "hash": "081deb9bbfcdd78be5e03965fcfa3483d3a474d29e4c364c7d5ea2f48cb29979"
   }
  }
 },
 "nbformat": 4,
 "nbformat_minor": 2
}
