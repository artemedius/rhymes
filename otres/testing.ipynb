{
 "cells": [
  {
   "cell_type": "code",
   "execution_count": 4,
   "metadata": {},
   "outputs": [],
   "source": [
    "import pandas as pd\n",
    "sample = pd.read_excel('sample.xlsx')\n",
    "db = pd.read_excel('db.xlsx')"
   ]
  },
  {
   "cell_type": "code",
   "execution_count": 5,
   "metadata": {},
   "outputs": [
    {
     "data": {
      "text/html": [
       "<div>\n",
       "<style scoped>\n",
       "    .dataframe tbody tr th:only-of-type {\n",
       "        vertical-align: middle;\n",
       "    }\n",
       "\n",
       "    .dataframe tbody tr th {\n",
       "        vertical-align: top;\n",
       "    }\n",
       "\n",
       "    .dataframe thead th {\n",
       "        text-align: right;\n",
       "    }\n",
       "</style>\n",
       "<table border=\"1\" class=\"dataframe\">\n",
       "  <thead>\n",
       "    <tr style=\"text-align: right;\">\n",
       "      <th></th>\n",
       "      <th>Упражнение</th>\n",
       "      <th>Категория</th>\n",
       "      <th>Мышцы</th>\n",
       "      <th>Движение</th>\n",
       "      <th>Вес</th>\n",
       "      <th>Повторения</th>\n",
       "      <th>Объём</th>\n",
       "      <th>Подход</th>\n",
       "    </tr>\n",
       "  </thead>\n",
       "  <tbody>\n",
       "    <tr>\n",
       "      <th>0</th>\n",
       "      <td>Становая тяга</td>\n",
       "      <td>Ноги</td>\n",
       "      <td>NaN</td>\n",
       "      <td>Тяга</td>\n",
       "      <td>100.0</td>\n",
       "      <td>5</td>\n",
       "      <td>NaN</td>\n",
       "      <td>NaN</td>\n",
       "    </tr>\n",
       "    <tr>\n",
       "      <th>1</th>\n",
       "      <td>Становая тяга</td>\n",
       "      <td>NaN</td>\n",
       "      <td>NaN</td>\n",
       "      <td>NaN</td>\n",
       "      <td>80.0</td>\n",
       "      <td>12</td>\n",
       "      <td>960.0</td>\n",
       "      <td>1.0</td>\n",
       "    </tr>\n",
       "    <tr>\n",
       "      <th>2</th>\n",
       "      <td>Становая тяга</td>\n",
       "      <td>NaN</td>\n",
       "      <td>NaN</td>\n",
       "      <td>NaN</td>\n",
       "      <td>90.0</td>\n",
       "      <td>10</td>\n",
       "      <td>900.0</td>\n",
       "      <td>2.0</td>\n",
       "    </tr>\n",
       "    <tr>\n",
       "      <th>3</th>\n",
       "      <td>Становая тяга</td>\n",
       "      <td>NaN</td>\n",
       "      <td>NaN</td>\n",
       "      <td>NaN</td>\n",
       "      <td>100.0</td>\n",
       "      <td>5</td>\n",
       "      <td>500.0</td>\n",
       "      <td>3.0</td>\n",
       "    </tr>\n",
       "  </tbody>\n",
       "</table>\n",
       "</div>"
      ],
      "text/plain": [
       "      Упражнение Категория  Мышцы Движение    Вес  Повторения  Объём  Подход\n",
       "0  Становая тяга      Ноги    NaN     Тяга  100.0           5    NaN     NaN\n",
       "1  Становая тяга       NaN    NaN      NaN   80.0          12  960.0     1.0\n",
       "2  Становая тяга       NaN    NaN      NaN   90.0          10  900.0     2.0\n",
       "3  Становая тяга       NaN    NaN      NaN  100.0           5  500.0     3.0"
      ]
     },
     "execution_count": 5,
     "metadata": {},
     "output_type": "execute_result"
    }
   ],
   "source": [
    "target = list(sample['Упражнение'].unique())\n",
    "total = pd.concat([db, sample])\n",
    "filter = total.loc[total['Упражнение'] == target[0]]\n",
    "filter = filter.reset_index().drop(columns='index')\n",
    "\n",
    "filter\n",
    "# record = filter.iloc[0]['Вес']\n",
    "# target = max(filter.iloc[1:]['Вес'])"
   ]
  },
  {
   "cell_type": "code",
   "execution_count": 6,
   "metadata": {},
   "outputs": [],
   "source": [
    "def compare(records, sample):\n",
    "    target = list(sample['Упражнение'].unique())\n",
    "    total = pd.concat([records, sample])\n",
    "    filter = total.loc[total['Упражнение'] == target[0]]\n",
    "    filter = filter.reset_index().drop(columns='index')\n",
    "\n",
    "    record = filter.iloc[0]['Вес']\n",
    "    target = max(filter.iloc[1:]['Вес'])\n",
    "    if target > record:\n",
    "        print('xd')\n",
    "    else:\n",
    "        print('no xd')\n",
    "\n",
    "# compare(sample, db)"
   ]
  }
 ],
 "metadata": {
  "kernelspec": {
   "display_name": "Python 3.10.4 64-bit",
   "language": "python",
   "name": "python3"
  },
  "language_info": {
   "codemirror_mode": {
    "name": "ipython",
    "version": 3
   },
   "file_extension": ".py",
   "mimetype": "text/x-python",
   "name": "python",
   "nbconvert_exporter": "python",
   "pygments_lexer": "ipython3",
   "version": "3.10.4"
  },
  "orig_nbformat": 4,
  "vscode": {
   "interpreter": {
    "hash": "081deb9bbfcdd78be5e03965fcfa3483d3a474d29e4c364c7d5ea2f48cb29979"
   }
  }
 },
 "nbformat": 4,
 "nbformat_minor": 2
}
