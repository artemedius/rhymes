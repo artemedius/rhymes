{
 "cells": [
  {
   "cell_type": "code",
   "execution_count": 5,
   "metadata": {},
   "outputs": [],
   "source": [
    "import pandas as pd\n",
    "df = pd.read_excel('db.xlsx')\n",
    "list1 = list(df.loc[df['Категория'] == 'Грудь']['Упражнение'])\n",
    "list2 = list(df.loc[df['Категория'] == 'Плечи']['Упражнение'])\n",
    "total = list1 + list2\n",
    "exercises=[list1, list2]\n",
    "\n",
    "number = 6\n",
    "ratio = 0.6\n",
    "\n",
    "def delete_random_elems(list, n):\n",
    "    import random\n",
    "    to_delete = set(random.sample(range(len(list)), n))\n",
    "    return [x for i,x in enumerate(list) if not i in to_delete]"
   ]
  },
  {
   "cell_type": "code",
   "execution_count": 6,
   "metadata": {},
   "outputs": [],
   "source": [
    "list1_num = round(number * ratio)\n",
    "list2_num = number - list1_num\n",
    "\n",
    "if len(exercises[0]) != list1_num:\n",
    "    list1 = delete_random_elems(exercises[0], (len(exercises[0])-list1_num))\n",
    "if len(exercises[1]) != list2_num:\n",
    "    list2 = delete_random_elems(exercises[1], (len(exercises[1])-list2_num))"
   ]
  }
 ],
 "metadata": {
  "kernelspec": {
   "display_name": "Python 3.10.4 64-bit",
   "language": "python",
   "name": "python3"
  },
  "language_info": {
   "codemirror_mode": {
    "name": "ipython",
    "version": 3
   },
   "file_extension": ".py",
   "mimetype": "text/x-python",
   "name": "python",
   "nbconvert_exporter": "python",
   "pygments_lexer": "ipython3",
   "version": "3.10.4"
  },
  "orig_nbformat": 4,
  "vscode": {
   "interpreter": {
    "hash": "081deb9bbfcdd78be5e03965fcfa3483d3a474d29e4c364c7d5ea2f48cb29979"
   }
  }
 },
 "nbformat": 4,
 "nbformat_minor": 2
}
