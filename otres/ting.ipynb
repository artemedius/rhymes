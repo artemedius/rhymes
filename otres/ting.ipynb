{
 "cells": [
  {
   "cell_type": "code",
   "execution_count": 27,
   "metadata": {},
   "outputs": [
    {
     "name": "stdout",
     "output_type": "stream",
     "text": [
      "Количество упражнений: 6\n",
      "Жим гантелей вверх сидя\n",
      "Развод гантелей стоя\n",
      "Жим лёжа с грифом\n",
      "Жим лёжа с гантелями\n",
      "Сведение рук на тренажёре\n",
      "Сведение гантелей лёжа\n"
     ]
    }
   ],
   "source": [
    "import pandas as pd\n",
    "db = pd.read_excel('db.xlsx')\n",
    "cat1 = 'Плечи'\n",
    "cat2 = 'Грудь'\n",
    "\n",
    "c1_ex = list(db.loc[db['Категория'] == cat1]['Упражнение'])\n",
    "c2_ex = list(db.loc[db['Категория'] == cat2]['Упражнение'])\n",
    "exercises = c1_ex + c2_ex\n",
    "print(f'Количество упражнений: {len(exercises)}')\n",
    "for x in exercises: print(x)"
   ]
  },
  {
   "cell_type": "code",
   "execution_count": 28,
   "metadata": {},
   "outputs": [
    {
     "name": "stdout",
     "output_type": "stream",
     "text": [
      "Жим гантелей вверх сидя\n",
      "Развод гантелей стоя\n",
      "Жим лёжа с гантелями\n",
      "Сведение гантелей лёжа\n"
     ]
    }
   ],
   "source": [
    "proga = pd.DataFrame(columns=['Упражнение', '1пх', '2пх', '3пх'])\n",
    "\n",
    "for x in exercises:\n",
    "    df = db[db['Упражнение'] == x]\n",
    "    weight = int(df['Вес'].values)\n",
    "    reps = int(df['Повторения'].values)\n",
    "\n",
    "    import formula\n",
    "    orm = formula.one_rm(weight, reps)\n",
    "    \n",
    "    weightlist = []\n",
    "    weightlist.extend([x, round(orm*0.71), round(orm*0.81), round(orm*0.91)])\n",
    "    proga = pd.concat([pd.DataFrame([weightlist], columns=['Упражнение', '1пх', '2пх', '3пх']), proga], ignore_index=True)"
   ]
  }
 ],
 "metadata": {
  "kernelspec": {
   "display_name": "Python 3.10.4 64-bit",
   "language": "python",
   "name": "python3"
  },
  "language_info": {
   "codemirror_mode": {
    "name": "ipython",
    "version": 3
   },
   "file_extension": ".py",
   "mimetype": "text/x-python",
   "name": "python",
   "nbconvert_exporter": "python",
   "pygments_lexer": "ipython3",
   "version": "3.10.4"
  },
  "orig_nbformat": 4,
  "vscode": {
   "interpreter": {
    "hash": "081deb9bbfcdd78be5e03965fcfa3483d3a474d29e4c364c7d5ea2f48cb29979"
   }
  }
 },
 "nbformat": 4,
 "nbformat_minor": 2
}
