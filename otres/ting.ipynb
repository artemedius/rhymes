{
 "cells": [
  {
   "cell_type": "code",
   "execution_count": 8,
   "metadata": {},
   "outputs": [
    {
     "data": {
      "text/plain": [
       "['Присед со штангой',\n",
       " 'Hack присед',\n",
       " 'Болгарская тяга',\n",
       " 'Жим ногами',\n",
       " 'Становая тяга']"
      ]
     },
     "execution_count": 8,
     "metadata": {},
     "output_type": "execute_result"
    }
   ],
   "source": [
    "import pandas as pd\n",
    "db = pd.read_excel('db.xlsx')\n",
    "cat1 = 'Плечи'\n",
    "cat2 = 'Грудь'\n",
    "list(db.loc[db['Категория'] == 'Ноги']['Упражнение'])"
   ]
  },
  {
   "cell_type": "code",
   "execution_count": 9,
   "metadata": {},
   "outputs": [
    {
     "data": {
      "text/html": [
       "<div>\n",
       "<style scoped>\n",
       "    .dataframe tbody tr th:only-of-type {\n",
       "        vertical-align: middle;\n",
       "    }\n",
       "\n",
       "    .dataframe tbody tr th {\n",
       "        vertical-align: top;\n",
       "    }\n",
       "\n",
       "    .dataframe thead th {\n",
       "        text-align: right;\n",
       "    }\n",
       "</style>\n",
       "<table border=\"1\" class=\"dataframe\">\n",
       "  <thead>\n",
       "    <tr style=\"text-align: right;\">\n",
       "      <th></th>\n",
       "      <th>Упражнение</th>\n",
       "      <th>Категория</th>\n",
       "      <th>Мышцы</th>\n",
       "      <th>Движение</th>\n",
       "      <th>Вес</th>\n",
       "      <th>Повторения</th>\n",
       "      <th>Объём</th>\n",
       "    </tr>\n",
       "  </thead>\n",
       "  <tbody>\n",
       "    <tr>\n",
       "      <th>9</th>\n",
       "      <td>Жим гантелей вверх сидя</td>\n",
       "      <td>Плечи</td>\n",
       "      <td>NaN</td>\n",
       "      <td>NaN</td>\n",
       "      <td>32.0</td>\n",
       "      <td>10.0</td>\n",
       "      <td>320</td>\n",
       "    </tr>\n",
       "    <tr>\n",
       "      <th>10</th>\n",
       "      <td>Развод гантелей стоя</td>\n",
       "      <td>Плечи</td>\n",
       "      <td>NaN</td>\n",
       "      <td>NaN</td>\n",
       "      <td>10.0</td>\n",
       "      <td>12.0</td>\n",
       "      <td>120</td>\n",
       "    </tr>\n",
       "  </tbody>\n",
       "</table>\n",
       "</div>"
      ],
      "text/plain": [
       "                 Упражнение Категория  Мышцы  Движение   Вес  Повторения  \\\n",
       "9   Жим гантелей вверх сидя     Плечи    NaN       NaN  32.0        10.0   \n",
       "10     Развод гантелей стоя     Плечи    NaN       NaN  10.0        12.0   \n",
       "\n",
       "    Объём  \n",
       "9     320  \n",
       "10    120  "
      ]
     },
     "execution_count": 9,
     "metadata": {},
     "output_type": "execute_result"
    }
   ],
   "source": [
    "df = db.loc[db['Категория'] == cat1]\n",
    "# Упражнение - вес - повторения = программа в DataFrame\n"
   ]
  }
 ],
 "metadata": {
  "kernelspec": {
   "display_name": "Python 3.10.4 64-bit",
   "language": "python",
   "name": "python3"
  },
  "language_info": {
   "codemirror_mode": {
    "name": "ipython",
    "version": 3
   },
   "file_extension": ".py",
   "mimetype": "text/x-python",
   "name": "python",
   "nbconvert_exporter": "python",
   "pygments_lexer": "ipython3",
   "version": "3.10.4"
  },
  "orig_nbformat": 4,
  "vscode": {
   "interpreter": {
    "hash": "081deb9bbfcdd78be5e03965fcfa3483d3a474d29e4c364c7d5ea2f48cb29979"
   }
  }
 },
 "nbformat": 4,
 "nbformat_minor": 2
}
